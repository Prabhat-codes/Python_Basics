{
 "metadata": {
  "language_info": {
   "codemirror_mode": {
    "name": "ipython",
    "version": 3
   },
   "file_extension": ".py",
   "mimetype": "text/x-python",
   "name": "python",
   "nbconvert_exporter": "python",
   "pygments_lexer": "ipython3",
   "version": "3.8.3-final"
  },
  "orig_nbformat": 2,
  "kernelspec": {
   "name": "Python 3.8.3 64-bit",
   "display_name": "Python 3.8.3 64-bit",
   "metadata": {
    "interpreter": {
     "hash": "a69db785c3eefb68564ebaf61228da81bee6bc33f009809c9c3a8d052946576e"
    }
   }
  }
 },
 "nbformat": 4,
 "nbformat_minor": 2,
 "cells": [
  {
   "cell_type": "code",
   "execution_count": 34,
   "metadata": {},
   "outputs": [],
   "source": [
    "import pandas as pd\n",
    "import numpy as np\n",
    "from sklearn.model_selection import train_test_split\n",
    "from sklearn.linear_model import LinearRegression\n",
    "from sklearn.metrics import mean_squared_error\n"
   ]
  },
  {
   "cell_type": "code",
   "execution_count": 35,
   "metadata": {},
   "outputs": [],
   "source": [
    "DF=pd.read_csv(r'E:\\Things I Did\\pyclasses\\bodyfat.csv')"
   ]
  },
  {
   "cell_type": "code",
   "execution_count": 36,
   "metadata": {},
   "outputs": [
    {
     "output_type": "execute_result",
     "data": {
      "text/plain": [
       "          Bodyfat         Age      Weight      Height        Neck       Chest  \\\n",
       "count  100.000000  100.000000  100.000000  100.000000  100.000000  100.000000   \n",
       "mean    18.601000   44.880000  177.451500   70.355000   37.894000  100.681000   \n",
       "std      8.006683   11.417937   29.508013    2.714807    2.302998    8.516493   \n",
       "min      3.700000   23.000000  127.500000   65.000000   32.800000   83.400000   \n",
       "25%     12.375000   39.750000  152.937500   68.250000   36.275000   94.000000   \n",
       "50%     18.950000   44.000000  176.125000   70.000000   37.900000   99.250000   \n",
       "75%     24.575000   52.000000  195.437500   72.250000   39.400000  105.600000   \n",
       "max     40.100000   74.000000  262.750000   77.750000   43.200000  128.300000   \n",
       "\n",
       "          Abdomen       Ankle      Biceps       Wrist  \n",
       "count  100.000000  100.000000  100.000000  100.000000  \n",
       "mean    91.867000   22.900000   32.292000   18.221000  \n",
       "std     10.261235    1.346451    3.065141    0.999322  \n",
       "min     70.400000   20.100000   25.600000   16.300000  \n",
       "25%     83.825000   22.000000   29.900000   17.600000  \n",
       "50%     90.150000   22.600000   32.000000   18.200000  \n",
       "75%     98.975000   23.725000   34.400000   18.825000  \n",
       "max    126.200000   27.000000   38.500000   21.400000  "
      ],
      "text/html": "<div>\n<style scoped>\n    .dataframe tbody tr th:only-of-type {\n        vertical-align: middle;\n    }\n\n    .dataframe tbody tr th {\n        vertical-align: top;\n    }\n\n    .dataframe thead th {\n        text-align: right;\n    }\n</style>\n<table border=\"1\" class=\"dataframe\">\n  <thead>\n    <tr style=\"text-align: right;\">\n      <th></th>\n      <th>Bodyfat</th>\n      <th>Age</th>\n      <th>Weight</th>\n      <th>Height</th>\n      <th>Neck</th>\n      <th>Chest</th>\n      <th>Abdomen</th>\n      <th>Ankle</th>\n      <th>Biceps</th>\n      <th>Wrist</th>\n    </tr>\n  </thead>\n  <tbody>\n    <tr>\n      <th>count</th>\n      <td>100.000000</td>\n      <td>100.000000</td>\n      <td>100.000000</td>\n      <td>100.000000</td>\n      <td>100.000000</td>\n      <td>100.000000</td>\n      <td>100.000000</td>\n      <td>100.000000</td>\n      <td>100.000000</td>\n      <td>100.000000</td>\n    </tr>\n    <tr>\n      <th>mean</th>\n      <td>18.601000</td>\n      <td>44.880000</td>\n      <td>177.451500</td>\n      <td>70.355000</td>\n      <td>37.894000</td>\n      <td>100.681000</td>\n      <td>91.867000</td>\n      <td>22.900000</td>\n      <td>32.292000</td>\n      <td>18.221000</td>\n    </tr>\n    <tr>\n      <th>std</th>\n      <td>8.006683</td>\n      <td>11.417937</td>\n      <td>29.508013</td>\n      <td>2.714807</td>\n      <td>2.302998</td>\n      <td>8.516493</td>\n      <td>10.261235</td>\n      <td>1.346451</td>\n      <td>3.065141</td>\n      <td>0.999322</td>\n    </tr>\n    <tr>\n      <th>min</th>\n      <td>3.700000</td>\n      <td>23.000000</td>\n      <td>127.500000</td>\n      <td>65.000000</td>\n      <td>32.800000</td>\n      <td>83.400000</td>\n      <td>70.400000</td>\n      <td>20.100000</td>\n      <td>25.600000</td>\n      <td>16.300000</td>\n    </tr>\n    <tr>\n      <th>25%</th>\n      <td>12.375000</td>\n      <td>39.750000</td>\n      <td>152.937500</td>\n      <td>68.250000</td>\n      <td>36.275000</td>\n      <td>94.000000</td>\n      <td>83.825000</td>\n      <td>22.000000</td>\n      <td>29.900000</td>\n      <td>17.600000</td>\n    </tr>\n    <tr>\n      <th>50%</th>\n      <td>18.950000</td>\n      <td>44.000000</td>\n      <td>176.125000</td>\n      <td>70.000000</td>\n      <td>37.900000</td>\n      <td>99.250000</td>\n      <td>90.150000</td>\n      <td>22.600000</td>\n      <td>32.000000</td>\n      <td>18.200000</td>\n    </tr>\n    <tr>\n      <th>75%</th>\n      <td>24.575000</td>\n      <td>52.000000</td>\n      <td>195.437500</td>\n      <td>72.250000</td>\n      <td>39.400000</td>\n      <td>105.600000</td>\n      <td>98.975000</td>\n      <td>23.725000</td>\n      <td>34.400000</td>\n      <td>18.825000</td>\n    </tr>\n    <tr>\n      <th>max</th>\n      <td>40.100000</td>\n      <td>74.000000</td>\n      <td>262.750000</td>\n      <td>77.750000</td>\n      <td>43.200000</td>\n      <td>128.300000</td>\n      <td>126.200000</td>\n      <td>27.000000</td>\n      <td>38.500000</td>\n      <td>21.400000</td>\n    </tr>\n  </tbody>\n</table>\n</div>"
     },
     "metadata": {},
     "execution_count": 36
    }
   ],
   "source": [
    "DF.describe()"
   ]
  },
  {
   "cell_type": "code",
   "execution_count": 37,
   "metadata": {},
   "outputs": [],
   "source": [
    "X=DF.iloc[:,1:]\n",
    "Y=DF.iloc[:,0]"
   ]
  },
  {
   "cell_type": "code",
   "execution_count": 38,
   "metadata": {},
   "outputs": [],
   "source": [
    "XTr,XTe,YTr,YTe=train_test_split(X,Y,test_size=0.2)"
   ]
  },
  {
   "cell_type": "code",
   "execution_count": 39,
   "metadata": {},
   "outputs": [
    {
     "output_type": "stream",
     "name": "stdout",
     "text": [
      "(80, 9) (20, 9) (80,) (20,)\n"
     ]
    }
   ],
   "source": [
    "print(XTr.shape,XTe.shape,YTr.shape,YTe.shape)"
   ]
  },
  {
   "cell_type": "code",
   "execution_count": 40,
   "metadata": {},
   "outputs": [
    {
     "output_type": "stream",
     "name": "stdout",
     "text": [
      "Done\n"
     ]
    }
   ],
   "source": [
    "model=LinearRegression()\n",
    "model.fit(XTr,YTr)\n",
    "print(\"Done\")"
   ]
  },
  {
   "cell_type": "code",
   "execution_count": 41,
   "metadata": {},
   "outputs": [],
   "source": [
    "    YPred=model.predict(XTe)"
   ]
  },
  {
   "cell_type": "code",
   "execution_count": 42,
   "metadata": {},
   "outputs": [
    {
     "output_type": "stream",
     "name": "stdout",
     "text": [
      "[26.59565454 27.48126808 13.20358781 23.68815766 26.11339386 21.93192436\n",
      " 38.71072756 17.01859335  8.8124418  19.43909422 12.0575118  17.6388332\n",
      " 21.30331444 26.29847532 22.57262842 14.41406428  6.3703135  28.59761099\n",
      " 19.29669654 13.65503918] [25.3 19.3  7.8 25.3 29.4 19.6 34.5 11.8  3.7 26.8 13.6 20.1 28.4 30.7\n",
      " 24.8 13.  10.8 25.2 10.6 13.9]\n"
     ]
    }
   ],
   "source": [
    "print(YPred,np.array(YTe))"
   ]
  },
  {
   "cell_type": "code",
   "execution_count": 43,
   "metadata": {},
   "outputs": [],
   "source": [
    "DFAnalysis= pd.DataFrame()"
   ]
  },
  {
   "cell_type": "code",
   "execution_count": 44,
   "metadata": {},
   "outputs": [
    {
     "output_type": "stream",
     "name": "stdout",
     "text": [
      "        Ypred   YTe\n",
      "0   26.595655  25.3\n",
      "1   27.481268  19.3\n",
      "2   13.203588   7.8\n",
      "3   23.688158  25.3\n",
      "4   26.113394  29.4\n",
      "5   21.931924  19.6\n",
      "6   38.710728  34.5\n",
      "7   17.018593  11.8\n",
      "8    8.812442   3.7\n",
      "9   19.439094  26.8\n",
      "10  12.057512  13.6\n",
      "11  17.638833  20.1\n",
      "12  21.303314  28.4\n",
      "13  26.298475  30.7\n",
      "14  22.572628  24.8\n",
      "15  14.414064  13.0\n",
      "16   6.370313  10.8\n",
      "17  28.597611  25.2\n",
      "18  19.296697  10.6\n",
      "19  13.655039  13.9\n"
     ]
    }
   ],
   "source": [
    "DFAnalysis['Ypred']=YPred\n",
    "DFAnalysis['YTe']=np.array(YTe)\n",
    "print(DFAnalysis)"
   ]
  },
  {
   "cell_type": "code",
   "execution_count": 45,
   "metadata": {},
   "outputs": [],
   "source": [
    "    DFAnalysis['Error']=np.square(DFAnalysis['YTe']-DFAnalysis['Ypred'])\n",
    "#DFAnalysis['Error']=[(x-y)**2 for x,y in zip(DFAnalysis['Ytest'],DFAnalysis['Ypred'])]"
   ]
  },
  {
   "cell_type": "code",
   "execution_count": 46,
   "metadata": {},
   "outputs": [
    {
     "output_type": "execute_result",
     "data": {
      "text/plain": [
       "        Ypred   YTe      Error\n",
       "0   26.595655  25.3   1.678721\n",
       "1   27.481268  19.3  66.933147\n",
       "2   13.203588   7.8  29.198761\n",
       "3   23.688158  25.3   2.598036\n",
       "4   26.113394  29.4  10.801780\n",
       "5   21.931924  19.6   5.437871\n",
       "6   38.710728  34.5  17.730227\n",
       "7   17.018593  11.8  27.233717\n",
       "8    8.812442   3.7  26.137061\n",
       "9   19.439094  26.8  54.182934\n",
       "10  12.057512  13.6   2.379270\n",
       "11  17.638833  20.1   6.057342\n",
       "12  21.303314  28.4  50.362946\n",
       "13  26.298475  30.7  19.373419\n",
       "14  22.572628  24.8   4.961184\n",
       "15  14.414064  13.0   1.999578\n",
       "16   6.370313  10.8  19.622123\n",
       "17  28.597611  25.2  11.543760\n",
       "18  19.296697  10.6  75.632531\n",
       "19  13.655039  13.9   0.060006"
      ],
      "text/html": "<div>\n<style scoped>\n    .dataframe tbody tr th:only-of-type {\n        vertical-align: middle;\n    }\n\n    .dataframe tbody tr th {\n        vertical-align: top;\n    }\n\n    .dataframe thead th {\n        text-align: right;\n    }\n</style>\n<table border=\"1\" class=\"dataframe\">\n  <thead>\n    <tr style=\"text-align: right;\">\n      <th></th>\n      <th>Ypred</th>\n      <th>YTe</th>\n      <th>Error</th>\n    </tr>\n  </thead>\n  <tbody>\n    <tr>\n      <th>0</th>\n      <td>26.595655</td>\n      <td>25.3</td>\n      <td>1.678721</td>\n    </tr>\n    <tr>\n      <th>1</th>\n      <td>27.481268</td>\n      <td>19.3</td>\n      <td>66.933147</td>\n    </tr>\n    <tr>\n      <th>2</th>\n      <td>13.203588</td>\n      <td>7.8</td>\n      <td>29.198761</td>\n    </tr>\n    <tr>\n      <th>3</th>\n      <td>23.688158</td>\n      <td>25.3</td>\n      <td>2.598036</td>\n    </tr>\n    <tr>\n      <th>4</th>\n      <td>26.113394</td>\n      <td>29.4</td>\n      <td>10.801780</td>\n    </tr>\n    <tr>\n      <th>5</th>\n      <td>21.931924</td>\n      <td>19.6</td>\n      <td>5.437871</td>\n    </tr>\n    <tr>\n      <th>6</th>\n      <td>38.710728</td>\n      <td>34.5</td>\n      <td>17.730227</td>\n    </tr>\n    <tr>\n      <th>7</th>\n      <td>17.018593</td>\n      <td>11.8</td>\n      <td>27.233717</td>\n    </tr>\n    <tr>\n      <th>8</th>\n      <td>8.812442</td>\n      <td>3.7</td>\n      <td>26.137061</td>\n    </tr>\n    <tr>\n      <th>9</th>\n      <td>19.439094</td>\n      <td>26.8</td>\n      <td>54.182934</td>\n    </tr>\n    <tr>\n      <th>10</th>\n      <td>12.057512</td>\n      <td>13.6</td>\n      <td>2.379270</td>\n    </tr>\n    <tr>\n      <th>11</th>\n      <td>17.638833</td>\n      <td>20.1</td>\n      <td>6.057342</td>\n    </tr>\n    <tr>\n      <th>12</th>\n      <td>21.303314</td>\n      <td>28.4</td>\n      <td>50.362946</td>\n    </tr>\n    <tr>\n      <th>13</th>\n      <td>26.298475</td>\n      <td>30.7</td>\n      <td>19.373419</td>\n    </tr>\n    <tr>\n      <th>14</th>\n      <td>22.572628</td>\n      <td>24.8</td>\n      <td>4.961184</td>\n    </tr>\n    <tr>\n      <th>15</th>\n      <td>14.414064</td>\n      <td>13.0</td>\n      <td>1.999578</td>\n    </tr>\n    <tr>\n      <th>16</th>\n      <td>6.370313</td>\n      <td>10.8</td>\n      <td>19.622123</td>\n    </tr>\n    <tr>\n      <th>17</th>\n      <td>28.597611</td>\n      <td>25.2</td>\n      <td>11.543760</td>\n    </tr>\n    <tr>\n      <th>18</th>\n      <td>19.296697</td>\n      <td>10.6</td>\n      <td>75.632531</td>\n    </tr>\n    <tr>\n      <th>19</th>\n      <td>13.655039</td>\n      <td>13.9</td>\n      <td>0.060006</td>\n    </tr>\n  </tbody>\n</table>\n</div>"
     },
     "metadata": {},
     "execution_count": 46
    }
   ],
   "source": [
    "DFAnalysis"
   ]
  },
  {
   "cell_type": "code",
   "execution_count": 47,
   "metadata": {},
   "outputs": [
    {
     "output_type": "error",
     "ename": "NameError",
     "evalue": "name 'plt' is not defined",
     "traceback": [
      "\u001b[1;31m---------------------------------------------------------------------------\u001b[0m",
      "\u001b[1;31mNameError\u001b[0m                                 Traceback (most recent call last)",
      "\u001b[1;32m<ipython-input-47-36124ef6935a>\u001b[0m in \u001b[0;36m<module>\u001b[1;34m\u001b[0m\n\u001b[1;32m----> 1\u001b[1;33m \u001b[0mplt\u001b[0m\u001b[1;33m.\u001b[0m\u001b[0mplot\u001b[0m\u001b[1;33m(\u001b[0m\u001b[0mDFAnalysis\u001b[0m\u001b[1;33m[\u001b[0m\u001b[1;34m'Error'\u001b[0m\u001b[1;33m]\u001b[0m\u001b[1;33m,\u001b[0m\u001b[1;34m'.'\u001b[0m\u001b[1;33m)\u001b[0m\u001b[1;33m\u001b[0m\u001b[1;33m\u001b[0m\u001b[0m\n\u001b[0m\u001b[0;32m      2\u001b[0m \u001b[0mplt\u001b[0m\u001b[1;33m.\u001b[0m\u001b[0mshow\u001b[0m\u001b[1;33m(\u001b[0m\u001b[1;33m)\u001b[0m\u001b[1;33m\u001b[0m\u001b[1;33m\u001b[0m\u001b[0m\n",
      "\u001b[1;31mNameError\u001b[0m: name 'plt' is not defined"
     ]
    }
   ],
   "source": [
    "plt.plot(DFAnalysis['Error'],'.')\n",
    "plt.show()\n"
   ]
  },
  {
   "cell_type": "code",
   "execution_count": null,
   "metadata": {},
   "outputs": [],
   "source": []
  }
 ]
}