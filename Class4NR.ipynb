{
 "metadata": {
  "language_info": {
   "codemirror_mode": {
    "name": "ipython",
    "version": 3
   },
   "file_extension": ".py",
   "mimetype": "text/x-python",
   "name": "python",
   "nbconvert_exporter": "python",
   "pygments_lexer": "ipython3",
   "version": "3.8.3-final"
  },
  "orig_nbformat": 2,
  "kernelspec": {
   "name": "Python 3.8.3 64-bit",
   "display_name": "Python 3.8.3 64-bit",
   "metadata": {
    "interpreter": {
     "hash": "1baa965d5efe3ac65b79dfc60c0d706280b1da80fedb7760faf2759126c4f253"
    }
   }
  }
 },
 "nbformat": 4,
 "nbformat_minor": 2,
 "cells": [
  {
   "cell_type": "code",
   "execution_count": 22,
   "metadata": {},
   "outputs": [],
   "source": [
    "import pandas as pd\n",
    "import numpy as np\n",
    "from sklearn.model_selection import train_test_split\n",
    "import matplotlib.pyplot as plt\n",
    "from sklearn.linear_model import LinearRegression\n",
    "from sklearn.metrics import mean_squared_error\n",
    "from sklearn.preprocessing import StandardScaler"
   ]
  },
  {
   "cell_type": "code",
   "execution_count": 23,
   "metadata": {},
   "outputs": [
    {
     "output_type": "execute_result",
     "data": {
      "text/plain": [
       "          Bodyfat         Age      Weight      Height        Neck       Chest  \\\n",
       "count  100.000000  100.000000  100.000000  100.000000  100.000000  100.000000   \n",
       "mean    18.601000   44.880000  177.451500   70.355000   37.894000  100.681000   \n",
       "std      8.006683   11.417937   29.508013    2.714807    2.302998    8.516493   \n",
       "min      3.700000   23.000000  127.500000   65.000000   32.800000   83.400000   \n",
       "25%     12.375000   39.750000  152.937500   68.250000   36.275000   94.000000   \n",
       "50%     18.950000   44.000000  176.125000   70.000000   37.900000   99.250000   \n",
       "75%     24.575000   52.000000  195.437500   72.250000   39.400000  105.600000   \n",
       "max     40.100000   74.000000  262.750000   77.750000   43.200000  128.300000   \n",
       "\n",
       "          Abdomen       Ankle      Biceps       Wrist  \n",
       "count  100.000000  100.000000  100.000000  100.000000  \n",
       "mean    91.867000   22.900000   32.292000   18.221000  \n",
       "std     10.261235    1.346451    3.065141    0.999322  \n",
       "min     70.400000   20.100000   25.600000   16.300000  \n",
       "25%     83.825000   22.000000   29.900000   17.600000  \n",
       "50%     90.150000   22.600000   32.000000   18.200000  \n",
       "75%     98.975000   23.725000   34.400000   18.825000  \n",
       "max    126.200000   27.000000   38.500000   21.400000  "
      ],
      "text/html": "<div>\n<style scoped>\n    .dataframe tbody tr th:only-of-type {\n        vertical-align: middle;\n    }\n\n    .dataframe tbody tr th {\n        vertical-align: top;\n    }\n\n    .dataframe thead th {\n        text-align: right;\n    }\n</style>\n<table border=\"1\" class=\"dataframe\">\n  <thead>\n    <tr style=\"text-align: right;\">\n      <th></th>\n      <th>Bodyfat</th>\n      <th>Age</th>\n      <th>Weight</th>\n      <th>Height</th>\n      <th>Neck</th>\n      <th>Chest</th>\n      <th>Abdomen</th>\n      <th>Ankle</th>\n      <th>Biceps</th>\n      <th>Wrist</th>\n    </tr>\n  </thead>\n  <tbody>\n    <tr>\n      <th>count</th>\n      <td>100.000000</td>\n      <td>100.000000</td>\n      <td>100.000000</td>\n      <td>100.000000</td>\n      <td>100.000000</td>\n      <td>100.000000</td>\n      <td>100.000000</td>\n      <td>100.000000</td>\n      <td>100.000000</td>\n      <td>100.000000</td>\n    </tr>\n    <tr>\n      <th>mean</th>\n      <td>18.601000</td>\n      <td>44.880000</td>\n      <td>177.451500</td>\n      <td>70.355000</td>\n      <td>37.894000</td>\n      <td>100.681000</td>\n      <td>91.867000</td>\n      <td>22.900000</td>\n      <td>32.292000</td>\n      <td>18.221000</td>\n    </tr>\n    <tr>\n      <th>std</th>\n      <td>8.006683</td>\n      <td>11.417937</td>\n      <td>29.508013</td>\n      <td>2.714807</td>\n      <td>2.302998</td>\n      <td>8.516493</td>\n      <td>10.261235</td>\n      <td>1.346451</td>\n      <td>3.065141</td>\n      <td>0.999322</td>\n    </tr>\n    <tr>\n      <th>min</th>\n      <td>3.700000</td>\n      <td>23.000000</td>\n      <td>127.500000</td>\n      <td>65.000000</td>\n      <td>32.800000</td>\n      <td>83.400000</td>\n      <td>70.400000</td>\n      <td>20.100000</td>\n      <td>25.600000</td>\n      <td>16.300000</td>\n    </tr>\n    <tr>\n      <th>25%</th>\n      <td>12.375000</td>\n      <td>39.750000</td>\n      <td>152.937500</td>\n      <td>68.250000</td>\n      <td>36.275000</td>\n      <td>94.000000</td>\n      <td>83.825000</td>\n      <td>22.000000</td>\n      <td>29.900000</td>\n      <td>17.600000</td>\n    </tr>\n    <tr>\n      <th>50%</th>\n      <td>18.950000</td>\n      <td>44.000000</td>\n      <td>176.125000</td>\n      <td>70.000000</td>\n      <td>37.900000</td>\n      <td>99.250000</td>\n      <td>90.150000</td>\n      <td>22.600000</td>\n      <td>32.000000</td>\n      <td>18.200000</td>\n    </tr>\n    <tr>\n      <th>75%</th>\n      <td>24.575000</td>\n      <td>52.000000</td>\n      <td>195.437500</td>\n      <td>72.250000</td>\n      <td>39.400000</td>\n      <td>105.600000</td>\n      <td>98.975000</td>\n      <td>23.725000</td>\n      <td>34.400000</td>\n      <td>18.825000</td>\n    </tr>\n    <tr>\n      <th>max</th>\n      <td>40.100000</td>\n      <td>74.000000</td>\n      <td>262.750000</td>\n      <td>77.750000</td>\n      <td>43.200000</td>\n      <td>128.300000</td>\n      <td>126.200000</td>\n      <td>27.000000</td>\n      <td>38.500000</td>\n      <td>21.400000</td>\n    </tr>\n  </tbody>\n</table>\n</div>"
     },
     "metadata": {},
     "execution_count": 23
    }
   ],
   "source": [
    "DF = pd.read_csv(r'E:\\Things I Did\\pyclasses\\bodyfat.csv')\n",
    "DF.describe()"
   ]
  },
  {
   "cell_type": "code",
   "execution_count": 24,
   "metadata": {},
   "outputs": [
    {
     "output_type": "execute_result",
     "data": {
      "text/plain": [
       "   Bodyfat  Age  Weight  Height  Neck  Chest  Abdomen  Ankle  Biceps  Wrist\n",
       "0     32.3   41  247.25   73.50  42.1  117.0    115.6   26.3    37.3   19.7\n",
       "1     22.5   31  177.25   71.50  36.2  101.1     92.4   24.6    30.1   18.2\n",
       "2     22.0   42  156.25   69.00  35.5   97.8     86.0   24.0    31.2   17.4\n",
       "3     12.3   23  154.25   67.75  36.2   93.1     85.2   21.9    32.0   17.1\n",
       "4     20.5   46  177.00   70.00  37.2   99.7     95.6   22.5    29.1   17.7\n",
       "5     22.6   54  198.00   72.00  39.9  107.6    100.0   22.0    35.9   18.9\n",
       "6     28.7   43  200.50   71.50  37.9  107.2    103.1   23.7    32.1   18.7\n",
       "7     21.3   42  163.00   70.25  35.3   93.5     89.6   21.9    30.7   17.4\n",
       "8     29.9   37  241.25   71.50  42.1  119.2    110.3   24.8    34.4   18.4\n",
       "9     21.3   41  218.50   71.00  39.8  111.7    100.5   25.2    37.5   18.7"
      ],
      "text/html": "<div>\n<style scoped>\n    .dataframe tbody tr th:only-of-type {\n        vertical-align: middle;\n    }\n\n    .dataframe tbody tr th {\n        vertical-align: top;\n    }\n\n    .dataframe thead th {\n        text-align: right;\n    }\n</style>\n<table border=\"1\" class=\"dataframe\">\n  <thead>\n    <tr style=\"text-align: right;\">\n      <th></th>\n      <th>Bodyfat</th>\n      <th>Age</th>\n      <th>Weight</th>\n      <th>Height</th>\n      <th>Neck</th>\n      <th>Chest</th>\n      <th>Abdomen</th>\n      <th>Ankle</th>\n      <th>Biceps</th>\n      <th>Wrist</th>\n    </tr>\n  </thead>\n  <tbody>\n    <tr>\n      <th>0</th>\n      <td>32.3</td>\n      <td>41</td>\n      <td>247.25</td>\n      <td>73.50</td>\n      <td>42.1</td>\n      <td>117.0</td>\n      <td>115.6</td>\n      <td>26.3</td>\n      <td>37.3</td>\n      <td>19.7</td>\n    </tr>\n    <tr>\n      <th>1</th>\n      <td>22.5</td>\n      <td>31</td>\n      <td>177.25</td>\n      <td>71.50</td>\n      <td>36.2</td>\n      <td>101.1</td>\n      <td>92.4</td>\n      <td>24.6</td>\n      <td>30.1</td>\n      <td>18.2</td>\n    </tr>\n    <tr>\n      <th>2</th>\n      <td>22.0</td>\n      <td>42</td>\n      <td>156.25</td>\n      <td>69.00</td>\n      <td>35.5</td>\n      <td>97.8</td>\n      <td>86.0</td>\n      <td>24.0</td>\n      <td>31.2</td>\n      <td>17.4</td>\n    </tr>\n    <tr>\n      <th>3</th>\n      <td>12.3</td>\n      <td>23</td>\n      <td>154.25</td>\n      <td>67.75</td>\n      <td>36.2</td>\n      <td>93.1</td>\n      <td>85.2</td>\n      <td>21.9</td>\n      <td>32.0</td>\n      <td>17.1</td>\n    </tr>\n    <tr>\n      <th>4</th>\n      <td>20.5</td>\n      <td>46</td>\n      <td>177.00</td>\n      <td>70.00</td>\n      <td>37.2</td>\n      <td>99.7</td>\n      <td>95.6</td>\n      <td>22.5</td>\n      <td>29.1</td>\n      <td>17.7</td>\n    </tr>\n    <tr>\n      <th>5</th>\n      <td>22.6</td>\n      <td>54</td>\n      <td>198.00</td>\n      <td>72.00</td>\n      <td>39.9</td>\n      <td>107.6</td>\n      <td>100.0</td>\n      <td>22.0</td>\n      <td>35.9</td>\n      <td>18.9</td>\n    </tr>\n    <tr>\n      <th>6</th>\n      <td>28.7</td>\n      <td>43</td>\n      <td>200.50</td>\n      <td>71.50</td>\n      <td>37.9</td>\n      <td>107.2</td>\n      <td>103.1</td>\n      <td>23.7</td>\n      <td>32.1</td>\n      <td>18.7</td>\n    </tr>\n    <tr>\n      <th>7</th>\n      <td>21.3</td>\n      <td>42</td>\n      <td>163.00</td>\n      <td>70.25</td>\n      <td>35.3</td>\n      <td>93.5</td>\n      <td>89.6</td>\n      <td>21.9</td>\n      <td>30.7</td>\n      <td>17.4</td>\n    </tr>\n    <tr>\n      <th>8</th>\n      <td>29.9</td>\n      <td>37</td>\n      <td>241.25</td>\n      <td>71.50</td>\n      <td>42.1</td>\n      <td>119.2</td>\n      <td>110.3</td>\n      <td>24.8</td>\n      <td>34.4</td>\n      <td>18.4</td>\n    </tr>\n    <tr>\n      <th>9</th>\n      <td>21.3</td>\n      <td>41</td>\n      <td>218.50</td>\n      <td>71.00</td>\n      <td>39.8</td>\n      <td>111.7</td>\n      <td>100.5</td>\n      <td>25.2</td>\n      <td>37.5</td>\n      <td>18.7</td>\n    </tr>\n  </tbody>\n</table>\n</div>"
     },
     "metadata": {},
     "execution_count": 24
    }
   ],
   "source": [
    "DF.head(10)"
   ]
  },
  {
   "cell_type": "code",
   "execution_count": 25,
   "metadata": {},
   "outputs": [],
   "source": [
    "#Train\n",
    "#Test\n",
    "X = DF.iloc[:,1:]\n",
    "Y = DF.iloc[:,0]"
   ]
  },
  {
   "cell_type": "code",
   "execution_count": 26,
   "metadata": {},
   "outputs": [
    {
     "output_type": "execute_result",
     "data": {
      "text/plain": [
       "    Age  Weight  Height  Neck  Chest  Abdomen  Ankle  Biceps  Wrist\n",
       "0    41  247.25   73.50  42.1  117.0    115.6   26.3    37.3   19.7\n",
       "1    31  177.25   71.50  36.2  101.1     92.4   24.6    30.1   18.2\n",
       "2    42  156.25   69.00  35.5   97.8     86.0   24.0    31.2   17.4\n",
       "3    23  154.25   67.75  36.2   93.1     85.2   21.9    32.0   17.1\n",
       "4    46  177.00   70.00  37.2   99.7     95.6   22.5    29.1   17.7\n",
       "..  ...     ...     ...   ...    ...      ...    ...     ...    ...\n",
       "95   48  177.25   72.75  36.8   96.0     90.0   22.8    29.9   18.1\n",
       "96   43  187.75   74.00  37.7   97.8     98.6   23.8    34.3   17.7\n",
       "97   33  184.25   68.75  40.7   98.9     92.1   23.5    33.5   19.7\n",
       "98   26  223.00   70.25  40.6  114.1    106.8   24.7    36.0   18.4\n",
       "99   47  127.50   66.75  34.0   83.4     70.4   21.9    26.8   16.8\n",
       "\n",
       "[100 rows x 9 columns]"
      ],
      "text/html": "<div>\n<style scoped>\n    .dataframe tbody tr th:only-of-type {\n        vertical-align: middle;\n    }\n\n    .dataframe tbody tr th {\n        vertical-align: top;\n    }\n\n    .dataframe thead th {\n        text-align: right;\n    }\n</style>\n<table border=\"1\" class=\"dataframe\">\n  <thead>\n    <tr style=\"text-align: right;\">\n      <th></th>\n      <th>Age</th>\n      <th>Weight</th>\n      <th>Height</th>\n      <th>Neck</th>\n      <th>Chest</th>\n      <th>Abdomen</th>\n      <th>Ankle</th>\n      <th>Biceps</th>\n      <th>Wrist</th>\n    </tr>\n  </thead>\n  <tbody>\n    <tr>\n      <th>0</th>\n      <td>41</td>\n      <td>247.25</td>\n      <td>73.50</td>\n      <td>42.1</td>\n      <td>117.0</td>\n      <td>115.6</td>\n      <td>26.3</td>\n      <td>37.3</td>\n      <td>19.7</td>\n    </tr>\n    <tr>\n      <th>1</th>\n      <td>31</td>\n      <td>177.25</td>\n      <td>71.50</td>\n      <td>36.2</td>\n      <td>101.1</td>\n      <td>92.4</td>\n      <td>24.6</td>\n      <td>30.1</td>\n      <td>18.2</td>\n    </tr>\n    <tr>\n      <th>2</th>\n      <td>42</td>\n      <td>156.25</td>\n      <td>69.00</td>\n      <td>35.5</td>\n      <td>97.8</td>\n      <td>86.0</td>\n      <td>24.0</td>\n      <td>31.2</td>\n      <td>17.4</td>\n    </tr>\n    <tr>\n      <th>3</th>\n      <td>23</td>\n      <td>154.25</td>\n      <td>67.75</td>\n      <td>36.2</td>\n      <td>93.1</td>\n      <td>85.2</td>\n      <td>21.9</td>\n      <td>32.0</td>\n      <td>17.1</td>\n    </tr>\n    <tr>\n      <th>4</th>\n      <td>46</td>\n      <td>177.00</td>\n      <td>70.00</td>\n      <td>37.2</td>\n      <td>99.7</td>\n      <td>95.6</td>\n      <td>22.5</td>\n      <td>29.1</td>\n      <td>17.7</td>\n    </tr>\n    <tr>\n      <th>...</th>\n      <td>...</td>\n      <td>...</td>\n      <td>...</td>\n      <td>...</td>\n      <td>...</td>\n      <td>...</td>\n      <td>...</td>\n      <td>...</td>\n      <td>...</td>\n    </tr>\n    <tr>\n      <th>95</th>\n      <td>48</td>\n      <td>177.25</td>\n      <td>72.75</td>\n      <td>36.8</td>\n      <td>96.0</td>\n      <td>90.0</td>\n      <td>22.8</td>\n      <td>29.9</td>\n      <td>18.1</td>\n    </tr>\n    <tr>\n      <th>96</th>\n      <td>43</td>\n      <td>187.75</td>\n      <td>74.00</td>\n      <td>37.7</td>\n      <td>97.8</td>\n      <td>98.6</td>\n      <td>23.8</td>\n      <td>34.3</td>\n      <td>17.7</td>\n    </tr>\n    <tr>\n      <th>97</th>\n      <td>33</td>\n      <td>184.25</td>\n      <td>68.75</td>\n      <td>40.7</td>\n      <td>98.9</td>\n      <td>92.1</td>\n      <td>23.5</td>\n      <td>33.5</td>\n      <td>19.7</td>\n    </tr>\n    <tr>\n      <th>98</th>\n      <td>26</td>\n      <td>223.00</td>\n      <td>70.25</td>\n      <td>40.6</td>\n      <td>114.1</td>\n      <td>106.8</td>\n      <td>24.7</td>\n      <td>36.0</td>\n      <td>18.4</td>\n    </tr>\n    <tr>\n      <th>99</th>\n      <td>47</td>\n      <td>127.50</td>\n      <td>66.75</td>\n      <td>34.0</td>\n      <td>83.4</td>\n      <td>70.4</td>\n      <td>21.9</td>\n      <td>26.8</td>\n      <td>16.8</td>\n    </tr>\n  </tbody>\n</table>\n<p>100 rows × 9 columns</p>\n</div>"
     },
     "metadata": {},
     "execution_count": 26
    }
   ],
   "source": [
    "X"
   ]
  },
  {
   "cell_type": "code",
   "execution_count": 27,
   "metadata": {},
   "outputs": [
    {
     "output_type": "execute_result",
     "data": {
      "text/plain": [
       "0     32.3\n",
       "1     22.5\n",
       "2     22.0\n",
       "3     12.3\n",
       "4     20.5\n",
       "      ... \n",
       "95    20.1\n",
       "96    29.4\n",
       "97    13.0\n",
       "98    25.2\n",
       "99     4.0\n",
       "Name: Bodyfat, Length: 100, dtype: float64"
      ]
     },
     "metadata": {},
     "execution_count": 27
    }
   ],
   "source": [
    "Y"
   ]
  },
  {
   "cell_type": "code",
   "execution_count": 28,
   "metadata": {},
   "outputs": [],
   "source": [
    "Xtrain, Xtest, Ytrain, Ytest = train_test_split(X,Y,test_size=0.2)"
   ]
  },
  {
   "cell_type": "code",
   "execution_count": 29,
   "metadata": {},
   "outputs": [
    {
     "output_type": "stream",
     "name": "stdout",
     "text": [
      "(80, 9)\n(80, 9)\n(80, 1)\n"
     ]
    }
   ],
   "source": [
    "print(Xtrain.shape)\n",
    "scx = StandardScaler()\n",
    "scy = StandardScaler()\n",
    "Xtrain = scx.fit_transform(Xtrain)\n",
    "print(Xtrain.shape)\n",
    "Ytrain = np.array(Ytrain).reshape(-1,1)\n",
    "Ytrain = scy.fit_transform(Ytrain)\n",
    "print(Ytrain.shape)"
   ]
  },
  {
   "cell_type": "code",
   "execution_count": 30,
   "metadata": {},
   "outputs": [
    {
     "output_type": "stream",
     "name": "stdout",
     "text": [
      "(80, 9) (20, 9) (80, 1) (20,)\n"
     ]
    }
   ],
   "source": [
    "print(Xtrain.shape,Xtest.shape,Ytrain.shape,Ytest.shape)"
   ]
  },
  {
   "cell_type": "code",
   "execution_count": 31,
   "metadata": {},
   "outputs": [
    {
     "output_type": "stream",
     "name": "stdout",
     "text": [
      "Done\n"
     ]
    }
   ],
   "source": [
    "model = LinearRegression()\n",
    "model.fit(Xtrain,Ytrain)\n",
    "print('Done')"
   ]
  },
  {
   "cell_type": "code",
   "execution_count": 32,
   "metadata": {},
   "outputs": [],
   "source": [
    "Xtest = scx.transform(Xtest)\n",
    "Ypred = model.predict(Xtest)\n",
    "Ypred = scy.inverse_transform(Ypred)"
   ]
  },
  {
   "cell_type": "code",
   "execution_count": 33,
   "metadata": {},
   "outputs": [
    {
     "output_type": "stream",
     "name": "stdout",
     "text": [
      "[[35.6097961 ]\n [14.72941951]\n [16.2469403 ]\n [27.82781455]\n [20.75731695]\n [40.54777994]\n [21.20113054]\n [28.37732193]\n [18.28585569]\n [11.19036516]\n [16.46008281]\n [20.54883335]\n [20.66363305]\n [ 4.82842942]\n [ 8.61203956]\n [12.98379495]\n [ 9.50670673]\n [12.38955908]\n [29.02319725]\n [22.0371696 ]] 47    31.6\n97    13.0\n20    11.0\n98    25.2\n77    26.8\n25    40.1\n31    18.3\n96    29.4\n76    18.2\n13    14.7\n69     8.0\n11    20.4\n46    19.1\n79     9.4\n23    17.3\n81    14.1\n94    10.3\n53     9.4\n30    19.3\n51    25.2\nName: Bodyfat, dtype: float64\n"
     ]
    }
   ],
   "source": [
    "print(Ypred,Ytest)"
   ]
  },
  {
   "cell_type": "code",
   "execution_count": 34,
   "metadata": {},
   "outputs": [],
   "source": [
    "DFAnalysis = pd.DataFrame()"
   ]
  },
  {
   "cell_type": "code",
   "execution_count": 35,
   "metadata": {},
   "outputs": [],
   "source": [
    "DFAnalysis['Ypred'] = Ypred.reshape(-1)\n",
    "DFAnalysis['Ytest'] = np.array(Ytest)"
   ]
  },
  {
   "cell_type": "code",
   "execution_count": 36,
   "metadata": {},
   "outputs": [
    {
     "output_type": "execute_result",
     "data": {
      "text/plain": [
       "        Ypred  Ytest\n",
       "0   35.609796   31.6\n",
       "1   14.729420   13.0\n",
       "2   16.246940   11.0\n",
       "3   27.827815   25.2\n",
       "4   20.757317   26.8\n",
       "5   40.547780   40.1\n",
       "6   21.201131   18.3\n",
       "7   28.377322   29.4\n",
       "8   18.285856   18.2\n",
       "9   11.190365   14.7\n",
       "10  16.460083    8.0\n",
       "11  20.548833   20.4\n",
       "12  20.663633   19.1\n",
       "13   4.828429    9.4\n",
       "14   8.612040   17.3\n",
       "15  12.983795   14.1\n",
       "16   9.506707   10.3\n",
       "17  12.389559    9.4\n",
       "18  29.023197   19.3\n",
       "19  22.037170   25.2"
      ],
      "text/html": "<div>\n<style scoped>\n    .dataframe tbody tr th:only-of-type {\n        vertical-align: middle;\n    }\n\n    .dataframe tbody tr th {\n        vertical-align: top;\n    }\n\n    .dataframe thead th {\n        text-align: right;\n    }\n</style>\n<table border=\"1\" class=\"dataframe\">\n  <thead>\n    <tr style=\"text-align: right;\">\n      <th></th>\n      <th>Ypred</th>\n      <th>Ytest</th>\n    </tr>\n  </thead>\n  <tbody>\n    <tr>\n      <th>0</th>\n      <td>35.609796</td>\n      <td>31.6</td>\n    </tr>\n    <tr>\n      <th>1</th>\n      <td>14.729420</td>\n      <td>13.0</td>\n    </tr>\n    <tr>\n      <th>2</th>\n      <td>16.246940</td>\n      <td>11.0</td>\n    </tr>\n    <tr>\n      <th>3</th>\n      <td>27.827815</td>\n      <td>25.2</td>\n    </tr>\n    <tr>\n      <th>4</th>\n      <td>20.757317</td>\n      <td>26.8</td>\n    </tr>\n    <tr>\n      <th>5</th>\n      <td>40.547780</td>\n      <td>40.1</td>\n    </tr>\n    <tr>\n      <th>6</th>\n      <td>21.201131</td>\n      <td>18.3</td>\n    </tr>\n    <tr>\n      <th>7</th>\n      <td>28.377322</td>\n      <td>29.4</td>\n    </tr>\n    <tr>\n      <th>8</th>\n      <td>18.285856</td>\n      <td>18.2</td>\n    </tr>\n    <tr>\n      <th>9</th>\n      <td>11.190365</td>\n      <td>14.7</td>\n    </tr>\n    <tr>\n      <th>10</th>\n      <td>16.460083</td>\n      <td>8.0</td>\n    </tr>\n    <tr>\n      <th>11</th>\n      <td>20.548833</td>\n      <td>20.4</td>\n    </tr>\n    <tr>\n      <th>12</th>\n      <td>20.663633</td>\n      <td>19.1</td>\n    </tr>\n    <tr>\n      <th>13</th>\n      <td>4.828429</td>\n      <td>9.4</td>\n    </tr>\n    <tr>\n      <th>14</th>\n      <td>8.612040</td>\n      <td>17.3</td>\n    </tr>\n    <tr>\n      <th>15</th>\n      <td>12.983795</td>\n      <td>14.1</td>\n    </tr>\n    <tr>\n      <th>16</th>\n      <td>9.506707</td>\n      <td>10.3</td>\n    </tr>\n    <tr>\n      <th>17</th>\n      <td>12.389559</td>\n      <td>9.4</td>\n    </tr>\n    <tr>\n      <th>18</th>\n      <td>29.023197</td>\n      <td>19.3</td>\n    </tr>\n    <tr>\n      <th>19</th>\n      <td>22.037170</td>\n      <td>25.2</td>\n    </tr>\n  </tbody>\n</table>\n</div>"
     },
     "metadata": {},
     "execution_count": 36
    }
   ],
   "source": [
    "DFAnalysis"
   ]
  },
  {
   "cell_type": "code",
   "execution_count": 37,
   "metadata": {},
   "outputs": [],
   "source": [
    "DFAnalysis['Error'] = np.square(DFAnalysis['Ytest'] - DFAnalysis['Ypred'])\n",
    "#DFAnalysis['Error']  = [(x-y)**2 for x,y in zip(DFAnalysis['Ytest'],DFAnalysis['Ypred'])]"
   ]
  },
  {
   "cell_type": "code",
   "execution_count": 38,
   "metadata": {},
   "outputs": [
    {
     "output_type": "execute_result",
     "data": {
      "text/plain": [
       "        Ypred  Ytest      Error\n",
       "0   35.609796   31.6  16.078465\n",
       "1   14.729420   13.0   2.990892\n",
       "2   16.246940   11.0  27.530382\n",
       "3   27.827815   25.2   6.905409\n",
       "4   20.757317   26.8  36.514018\n",
       "5   40.547780   40.1   0.200507\n",
       "6   21.201131   18.3   8.416558\n",
       "7   28.377322   29.4   1.045870\n",
       "8   18.285856   18.2   0.007371\n",
       "9   11.190365   14.7  12.317537\n",
       "10  16.460083    8.0  71.573001\n",
       "11  20.548833   20.4   0.022151\n",
       "12  20.663633   19.1   2.444948\n",
       "13   4.828429    9.4  20.899258\n",
       "14   8.612040   17.3  75.480657\n",
       "15  12.983795   14.1   1.245914\n",
       "16   9.506707   10.3   0.629314\n",
       "17  12.389559    9.4   8.937464\n",
       "18  29.023197   19.3  94.540565\n",
       "19  22.037170   25.2  10.003496"
      ],
      "text/html": "<div>\n<style scoped>\n    .dataframe tbody tr th:only-of-type {\n        vertical-align: middle;\n    }\n\n    .dataframe tbody tr th {\n        vertical-align: top;\n    }\n\n    .dataframe thead th {\n        text-align: right;\n    }\n</style>\n<table border=\"1\" class=\"dataframe\">\n  <thead>\n    <tr style=\"text-align: right;\">\n      <th></th>\n      <th>Ypred</th>\n      <th>Ytest</th>\n      <th>Error</th>\n    </tr>\n  </thead>\n  <tbody>\n    <tr>\n      <th>0</th>\n      <td>35.609796</td>\n      <td>31.6</td>\n      <td>16.078465</td>\n    </tr>\n    <tr>\n      <th>1</th>\n      <td>14.729420</td>\n      <td>13.0</td>\n      <td>2.990892</td>\n    </tr>\n    <tr>\n      <th>2</th>\n      <td>16.246940</td>\n      <td>11.0</td>\n      <td>27.530382</td>\n    </tr>\n    <tr>\n      <th>3</th>\n      <td>27.827815</td>\n      <td>25.2</td>\n      <td>6.905409</td>\n    </tr>\n    <tr>\n      <th>4</th>\n      <td>20.757317</td>\n      <td>26.8</td>\n      <td>36.514018</td>\n    </tr>\n    <tr>\n      <th>5</th>\n      <td>40.547780</td>\n      <td>40.1</td>\n      <td>0.200507</td>\n    </tr>\n    <tr>\n      <th>6</th>\n      <td>21.201131</td>\n      <td>18.3</td>\n      <td>8.416558</td>\n    </tr>\n    <tr>\n      <th>7</th>\n      <td>28.377322</td>\n      <td>29.4</td>\n      <td>1.045870</td>\n    </tr>\n    <tr>\n      <th>8</th>\n      <td>18.285856</td>\n      <td>18.2</td>\n      <td>0.007371</td>\n    </tr>\n    <tr>\n      <th>9</th>\n      <td>11.190365</td>\n      <td>14.7</td>\n      <td>12.317537</td>\n    </tr>\n    <tr>\n      <th>10</th>\n      <td>16.460083</td>\n      <td>8.0</td>\n      <td>71.573001</td>\n    </tr>\n    <tr>\n      <th>11</th>\n      <td>20.548833</td>\n      <td>20.4</td>\n      <td>0.022151</td>\n    </tr>\n    <tr>\n      <th>12</th>\n      <td>20.663633</td>\n      <td>19.1</td>\n      <td>2.444948</td>\n    </tr>\n    <tr>\n      <th>13</th>\n      <td>4.828429</td>\n      <td>9.4</td>\n      <td>20.899258</td>\n    </tr>\n    <tr>\n      <th>14</th>\n      <td>8.612040</td>\n      <td>17.3</td>\n      <td>75.480657</td>\n    </tr>\n    <tr>\n      <th>15</th>\n      <td>12.983795</td>\n      <td>14.1</td>\n      <td>1.245914</td>\n    </tr>\n    <tr>\n      <th>16</th>\n      <td>9.506707</td>\n      <td>10.3</td>\n      <td>0.629314</td>\n    </tr>\n    <tr>\n      <th>17</th>\n      <td>12.389559</td>\n      <td>9.4</td>\n      <td>8.937464</td>\n    </tr>\n    <tr>\n      <th>18</th>\n      <td>29.023197</td>\n      <td>19.3</td>\n      <td>94.540565</td>\n    </tr>\n    <tr>\n      <th>19</th>\n      <td>22.037170</td>\n      <td>25.2</td>\n      <td>10.003496</td>\n    </tr>\n  </tbody>\n</table>\n</div>"
     },
     "metadata": {},
     "execution_count": 38
    }
   ],
   "source": [
    "DFAnalysis"
   ]
  },
  {
   "cell_type": "code",
   "execution_count": 39,
   "metadata": {},
   "outputs": [
    {
     "output_type": "display_data",
     "data": {
      "text/plain": "<Figure size 432x288 with 1 Axes>",
      "image/svg+xml": "<?xml version=\"1.0\" encoding=\"utf-8\" standalone=\"no\"?>\r\n<!DOCTYPE svg PUBLIC \"-//W3C//DTD SVG 1.1//EN\"\r\n  \"http://www.w3.org/Graphics/SVG/1.1/DTD/svg11.dtd\">\r\n<!-- Created with matplotlib (https://matplotlib.org/) -->\r\n<svg height=\"248.518125pt\" version=\"1.1\" viewBox=\"0 0 368.925 248.518125\" width=\"368.925pt\" xmlns=\"http://www.w3.org/2000/svg\" xmlns:xlink=\"http://www.w3.org/1999/xlink\">\r\n <metadata>\r\n  <rdf:RDF xmlns:cc=\"http://creativecommons.org/ns#\" xmlns:dc=\"http://purl.org/dc/elements/1.1/\" xmlns:rdf=\"http://www.w3.org/1999/02/22-rdf-syntax-ns#\">\r\n   <cc:Work>\r\n    <dc:type rdf:resource=\"http://purl.org/dc/dcmitype/StillImage\"/>\r\n    <dc:date>2020-10-30T22:40:48.187180</dc:date>\r\n    <dc:format>image/svg+xml</dc:format>\r\n    <dc:creator>\r\n     <cc:Agent>\r\n      <dc:title>Matplotlib v3.3.2, https://matplotlib.org/</dc:title>\r\n     </cc:Agent>\r\n    </dc:creator>\r\n   </cc:Work>\r\n  </rdf:RDF>\r\n </metadata>\r\n <defs>\r\n  <style type=\"text/css\">*{stroke-linecap:butt;stroke-linejoin:round;}</style>\r\n </defs>\r\n <g id=\"figure_1\">\r\n  <g id=\"patch_1\">\r\n   <path d=\"M -0 248.518125 \r\nL 368.925 248.518125 \r\nL 368.925 0 \r\nL -0 0 \r\nz\r\n\" style=\"fill:none;\"/>\r\n  </g>\r\n  <g id=\"axes_1\">\r\n   <g id=\"patch_2\">\r\n    <path d=\"M 26.925 224.64 \r\nL 361.725 224.64 \r\nL 361.725 7.2 \r\nL 26.925 7.2 \r\nz\r\n\" style=\"fill:#ffffff;\"/>\r\n   </g>\r\n   <g id=\"matplotlib.axis_1\">\r\n    <g id=\"xtick_1\">\r\n     <g id=\"line2d_1\">\r\n      <defs>\r\n       <path d=\"M 0 0 \r\nL 0 3.5 \r\n\" id=\"ma55236b333\" style=\"stroke:#000000;stroke-width:0.8;\"/>\r\n      </defs>\r\n      <g>\r\n       <use style=\"stroke:#000000;stroke-width:0.8;\" x=\"42.143182\" xlink:href=\"#ma55236b333\" y=\"224.64\"/>\r\n      </g>\r\n     </g>\r\n     <g id=\"text_1\">\r\n      <!-- 0.0 -->\r\n      <g transform=\"translate(34.191619 239.238437)scale(0.1 -0.1)\">\r\n       <defs>\r\n        <path d=\"M 31.78125 66.40625 \r\nQ 24.171875 66.40625 20.328125 58.90625 \r\nQ 16.5 51.421875 16.5 36.375 \r\nQ 16.5 21.390625 20.328125 13.890625 \r\nQ 24.171875 6.390625 31.78125 6.390625 \r\nQ 39.453125 6.390625 43.28125 13.890625 \r\nQ 47.125 21.390625 47.125 36.375 \r\nQ 47.125 51.421875 43.28125 58.90625 \r\nQ 39.453125 66.40625 31.78125 66.40625 \r\nz\r\nM 31.78125 74.21875 \r\nQ 44.046875 74.21875 50.515625 64.515625 \r\nQ 56.984375 54.828125 56.984375 36.375 \r\nQ 56.984375 17.96875 50.515625 8.265625 \r\nQ 44.046875 -1.421875 31.78125 -1.421875 \r\nQ 19.53125 -1.421875 13.0625 8.265625 \r\nQ 6.59375 17.96875 6.59375 36.375 \r\nQ 6.59375 54.828125 13.0625 64.515625 \r\nQ 19.53125 74.21875 31.78125 74.21875 \r\nz\r\n\" id=\"DejaVuSans-48\"/>\r\n        <path d=\"M 10.6875 12.40625 \r\nL 21 12.40625 \r\nL 21 0 \r\nL 10.6875 0 \r\nz\r\n\" id=\"DejaVuSans-46\"/>\r\n       </defs>\r\n       <use xlink:href=\"#DejaVuSans-48\"/>\r\n       <use x=\"63.623047\" xlink:href=\"#DejaVuSans-46\"/>\r\n       <use x=\"95.410156\" xlink:href=\"#DejaVuSans-48\"/>\r\n      </g>\r\n     </g>\r\n    </g>\r\n    <g id=\"xtick_2\">\r\n     <g id=\"line2d_2\">\r\n      <g>\r\n       <use style=\"stroke:#000000;stroke-width:0.8;\" x=\"82.191029\" xlink:href=\"#ma55236b333\" y=\"224.64\"/>\r\n      </g>\r\n     </g>\r\n     <g id=\"text_2\">\r\n      <!-- 2.5 -->\r\n      <g transform=\"translate(74.239466 239.238437)scale(0.1 -0.1)\">\r\n       <defs>\r\n        <path d=\"M 19.1875 8.296875 \r\nL 53.609375 8.296875 \r\nL 53.609375 0 \r\nL 7.328125 0 \r\nL 7.328125 8.296875 \r\nQ 12.9375 14.109375 22.625 23.890625 \r\nQ 32.328125 33.6875 34.8125 36.53125 \r\nQ 39.546875 41.84375 41.421875 45.53125 \r\nQ 43.3125 49.21875 43.3125 52.78125 \r\nQ 43.3125 58.59375 39.234375 62.25 \r\nQ 35.15625 65.921875 28.609375 65.921875 \r\nQ 23.96875 65.921875 18.8125 64.3125 \r\nQ 13.671875 62.703125 7.8125 59.421875 \r\nL 7.8125 69.390625 \r\nQ 13.765625 71.78125 18.9375 73 \r\nQ 24.125 74.21875 28.421875 74.21875 \r\nQ 39.75 74.21875 46.484375 68.546875 \r\nQ 53.21875 62.890625 53.21875 53.421875 \r\nQ 53.21875 48.921875 51.53125 44.890625 \r\nQ 49.859375 40.875 45.40625 35.40625 \r\nQ 44.1875 33.984375 37.640625 27.21875 \r\nQ 31.109375 20.453125 19.1875 8.296875 \r\nz\r\n\" id=\"DejaVuSans-50\"/>\r\n        <path d=\"M 10.796875 72.90625 \r\nL 49.515625 72.90625 \r\nL 49.515625 64.59375 \r\nL 19.828125 64.59375 \r\nL 19.828125 46.734375 \r\nQ 21.96875 47.46875 24.109375 47.828125 \r\nQ 26.265625 48.1875 28.421875 48.1875 \r\nQ 40.625 48.1875 47.75 41.5 \r\nQ 54.890625 34.8125 54.890625 23.390625 \r\nQ 54.890625 11.625 47.5625 5.09375 \r\nQ 40.234375 -1.421875 26.90625 -1.421875 \r\nQ 22.3125 -1.421875 17.546875 -0.640625 \r\nQ 12.796875 0.140625 7.71875 1.703125 \r\nL 7.71875 11.625 \r\nQ 12.109375 9.234375 16.796875 8.0625 \r\nQ 21.484375 6.890625 26.703125 6.890625 \r\nQ 35.15625 6.890625 40.078125 11.328125 \r\nQ 45.015625 15.765625 45.015625 23.390625 \r\nQ 45.015625 31 40.078125 35.4375 \r\nQ 35.15625 39.890625 26.703125 39.890625 \r\nQ 22.75 39.890625 18.8125 39.015625 \r\nQ 14.890625 38.140625 10.796875 36.28125 \r\nz\r\n\" id=\"DejaVuSans-53\"/>\r\n       </defs>\r\n       <use xlink:href=\"#DejaVuSans-50\"/>\r\n       <use x=\"63.623047\" xlink:href=\"#DejaVuSans-46\"/>\r\n       <use x=\"95.410156\" xlink:href=\"#DejaVuSans-53\"/>\r\n      </g>\r\n     </g>\r\n    </g>\r\n    <g id=\"xtick_3\">\r\n     <g id=\"line2d_3\">\r\n      <g>\r\n       <use style=\"stroke:#000000;stroke-width:0.8;\" x=\"122.238876\" xlink:href=\"#ma55236b333\" y=\"224.64\"/>\r\n      </g>\r\n     </g>\r\n     <g id=\"text_3\">\r\n      <!-- 5.0 -->\r\n      <g transform=\"translate(114.287313 239.238437)scale(0.1 -0.1)\">\r\n       <use xlink:href=\"#DejaVuSans-53\"/>\r\n       <use x=\"63.623047\" xlink:href=\"#DejaVuSans-46\"/>\r\n       <use x=\"95.410156\" xlink:href=\"#DejaVuSans-48\"/>\r\n      </g>\r\n     </g>\r\n    </g>\r\n    <g id=\"xtick_4\">\r\n     <g id=\"line2d_4\">\r\n      <g>\r\n       <use style=\"stroke:#000000;stroke-width:0.8;\" x=\"162.286722\" xlink:href=\"#ma55236b333\" y=\"224.64\"/>\r\n      </g>\r\n     </g>\r\n     <g id=\"text_4\">\r\n      <!-- 7.5 -->\r\n      <g transform=\"translate(154.33516 239.238437)scale(0.1 -0.1)\">\r\n       <defs>\r\n        <path d=\"M 8.203125 72.90625 \r\nL 55.078125 72.90625 \r\nL 55.078125 68.703125 \r\nL 28.609375 0 \r\nL 18.3125 0 \r\nL 43.21875 64.59375 \r\nL 8.203125 64.59375 \r\nz\r\n\" id=\"DejaVuSans-55\"/>\r\n       </defs>\r\n       <use xlink:href=\"#DejaVuSans-55\"/>\r\n       <use x=\"63.623047\" xlink:href=\"#DejaVuSans-46\"/>\r\n       <use x=\"95.410156\" xlink:href=\"#DejaVuSans-53\"/>\r\n      </g>\r\n     </g>\r\n    </g>\r\n    <g id=\"xtick_5\">\r\n     <g id=\"line2d_5\">\r\n      <g>\r\n       <use style=\"stroke:#000000;stroke-width:0.8;\" x=\"202.334569\" xlink:href=\"#ma55236b333\" y=\"224.64\"/>\r\n      </g>\r\n     </g>\r\n     <g id=\"text_5\">\r\n      <!-- 10.0 -->\r\n      <g transform=\"translate(191.201757 239.238437)scale(0.1 -0.1)\">\r\n       <defs>\r\n        <path d=\"M 12.40625 8.296875 \r\nL 28.515625 8.296875 \r\nL 28.515625 63.921875 \r\nL 10.984375 60.40625 \r\nL 10.984375 69.390625 \r\nL 28.421875 72.90625 \r\nL 38.28125 72.90625 \r\nL 38.28125 8.296875 \r\nL 54.390625 8.296875 \r\nL 54.390625 0 \r\nL 12.40625 0 \r\nz\r\n\" id=\"DejaVuSans-49\"/>\r\n       </defs>\r\n       <use xlink:href=\"#DejaVuSans-49\"/>\r\n       <use x=\"63.623047\" xlink:href=\"#DejaVuSans-48\"/>\r\n       <use x=\"127.246094\" xlink:href=\"#DejaVuSans-46\"/>\r\n       <use x=\"159.033203\" xlink:href=\"#DejaVuSans-48\"/>\r\n      </g>\r\n     </g>\r\n    </g>\r\n    <g id=\"xtick_6\">\r\n     <g id=\"line2d_6\">\r\n      <g>\r\n       <use style=\"stroke:#000000;stroke-width:0.8;\" x=\"242.382416\" xlink:href=\"#ma55236b333\" y=\"224.64\"/>\r\n      </g>\r\n     </g>\r\n     <g id=\"text_6\">\r\n      <!-- 12.5 -->\r\n      <g transform=\"translate(231.249604 239.238437)scale(0.1 -0.1)\">\r\n       <use xlink:href=\"#DejaVuSans-49\"/>\r\n       <use x=\"63.623047\" xlink:href=\"#DejaVuSans-50\"/>\r\n       <use x=\"127.246094\" xlink:href=\"#DejaVuSans-46\"/>\r\n       <use x=\"159.033203\" xlink:href=\"#DejaVuSans-53\"/>\r\n      </g>\r\n     </g>\r\n    </g>\r\n    <g id=\"xtick_7\">\r\n     <g id=\"line2d_7\">\r\n      <g>\r\n       <use style=\"stroke:#000000;stroke-width:0.8;\" x=\"282.430263\" xlink:href=\"#ma55236b333\" y=\"224.64\"/>\r\n      </g>\r\n     </g>\r\n     <g id=\"text_7\">\r\n      <!-- 15.0 -->\r\n      <g transform=\"translate(271.297451 239.238437)scale(0.1 -0.1)\">\r\n       <use xlink:href=\"#DejaVuSans-49\"/>\r\n       <use x=\"63.623047\" xlink:href=\"#DejaVuSans-53\"/>\r\n       <use x=\"127.246094\" xlink:href=\"#DejaVuSans-46\"/>\r\n       <use x=\"159.033203\" xlink:href=\"#DejaVuSans-48\"/>\r\n      </g>\r\n     </g>\r\n    </g>\r\n    <g id=\"xtick_8\">\r\n     <g id=\"line2d_8\">\r\n      <g>\r\n       <use style=\"stroke:#000000;stroke-width:0.8;\" x=\"322.47811\" xlink:href=\"#ma55236b333\" y=\"224.64\"/>\r\n      </g>\r\n     </g>\r\n     <g id=\"text_8\">\r\n      <!-- 17.5 -->\r\n      <g transform=\"translate(311.345298 239.238437)scale(0.1 -0.1)\">\r\n       <use xlink:href=\"#DejaVuSans-49\"/>\r\n       <use x=\"63.623047\" xlink:href=\"#DejaVuSans-55\"/>\r\n       <use x=\"127.246094\" xlink:href=\"#DejaVuSans-46\"/>\r\n       <use x=\"159.033203\" xlink:href=\"#DejaVuSans-53\"/>\r\n      </g>\r\n     </g>\r\n    </g>\r\n   </g>\r\n   <g id=\"matplotlib.axis_2\">\r\n    <g id=\"ytick_1\">\r\n     <g id=\"line2d_9\">\r\n      <defs>\r\n       <path d=\"M 0 0 \r\nL -3.5 0 \r\n\" id=\"m6c40ec372b\" style=\"stroke:#000000;stroke-width:0.8;\"/>\r\n      </defs>\r\n      <g>\r\n       <use style=\"stroke:#000000;stroke-width:0.8;\" x=\"26.925\" xlink:href=\"#m6c40ec372b\" y=\"214.771777\"/>\r\n      </g>\r\n     </g>\r\n     <g id=\"text_9\">\r\n      <!-- 0 -->\r\n      <g transform=\"translate(13.5625 218.570996)scale(0.1 -0.1)\">\r\n       <use xlink:href=\"#DejaVuSans-48\"/>\r\n      </g>\r\n     </g>\r\n    </g>\r\n    <g id=\"ytick_2\">\r\n     <g id=\"line2d_10\">\r\n      <g>\r\n       <use style=\"stroke:#000000;stroke-width:0.8;\" x=\"26.925\" xlink:href=\"#m6c40ec372b\" y=\"172.950969\"/>\r\n      </g>\r\n     </g>\r\n     <g id=\"text_10\">\r\n      <!-- 20 -->\r\n      <g transform=\"translate(7.2 176.750188)scale(0.1 -0.1)\">\r\n       <use xlink:href=\"#DejaVuSans-50\"/>\r\n       <use x=\"63.623047\" xlink:href=\"#DejaVuSans-48\"/>\r\n      </g>\r\n     </g>\r\n    </g>\r\n    <g id=\"ytick_3\">\r\n     <g id=\"line2d_11\">\r\n      <g>\r\n       <use style=\"stroke:#000000;stroke-width:0.8;\" x=\"26.925\" xlink:href=\"#m6c40ec372b\" y=\"131.130161\"/>\r\n      </g>\r\n     </g>\r\n     <g id=\"text_11\">\r\n      <!-- 40 -->\r\n      <g transform=\"translate(7.2 134.92938)scale(0.1 -0.1)\">\r\n       <defs>\r\n        <path d=\"M 37.796875 64.3125 \r\nL 12.890625 25.390625 \r\nL 37.796875 25.390625 \r\nz\r\nM 35.203125 72.90625 \r\nL 47.609375 72.90625 \r\nL 47.609375 25.390625 \r\nL 58.015625 25.390625 \r\nL 58.015625 17.1875 \r\nL 47.609375 17.1875 \r\nL 47.609375 0 \r\nL 37.796875 0 \r\nL 37.796875 17.1875 \r\nL 4.890625 17.1875 \r\nL 4.890625 26.703125 \r\nz\r\n\" id=\"DejaVuSans-52\"/>\r\n       </defs>\r\n       <use xlink:href=\"#DejaVuSans-52\"/>\r\n       <use x=\"63.623047\" xlink:href=\"#DejaVuSans-48\"/>\r\n      </g>\r\n     </g>\r\n    </g>\r\n    <g id=\"ytick_4\">\r\n     <g id=\"line2d_12\">\r\n      <g>\r\n       <use style=\"stroke:#000000;stroke-width:0.8;\" x=\"26.925\" xlink:href=\"#m6c40ec372b\" y=\"89.309353\"/>\r\n      </g>\r\n     </g>\r\n     <g id=\"text_12\">\r\n      <!-- 60 -->\r\n      <g transform=\"translate(7.2 93.108572)scale(0.1 -0.1)\">\r\n       <defs>\r\n        <path d=\"M 33.015625 40.375 \r\nQ 26.375 40.375 22.484375 35.828125 \r\nQ 18.609375 31.296875 18.609375 23.390625 \r\nQ 18.609375 15.53125 22.484375 10.953125 \r\nQ 26.375 6.390625 33.015625 6.390625 \r\nQ 39.65625 6.390625 43.53125 10.953125 \r\nQ 47.40625 15.53125 47.40625 23.390625 \r\nQ 47.40625 31.296875 43.53125 35.828125 \r\nQ 39.65625 40.375 33.015625 40.375 \r\nz\r\nM 52.59375 71.296875 \r\nL 52.59375 62.3125 \r\nQ 48.875 64.0625 45.09375 64.984375 \r\nQ 41.3125 65.921875 37.59375 65.921875 \r\nQ 27.828125 65.921875 22.671875 59.328125 \r\nQ 17.53125 52.734375 16.796875 39.40625 \r\nQ 19.671875 43.65625 24.015625 45.921875 \r\nQ 28.375 48.1875 33.59375 48.1875 \r\nQ 44.578125 48.1875 50.953125 41.515625 \r\nQ 57.328125 34.859375 57.328125 23.390625 \r\nQ 57.328125 12.15625 50.6875 5.359375 \r\nQ 44.046875 -1.421875 33.015625 -1.421875 \r\nQ 20.359375 -1.421875 13.671875 8.265625 \r\nQ 6.984375 17.96875 6.984375 36.375 \r\nQ 6.984375 53.65625 15.1875 63.9375 \r\nQ 23.390625 74.21875 37.203125 74.21875 \r\nQ 40.921875 74.21875 44.703125 73.484375 \r\nQ 48.484375 72.75 52.59375 71.296875 \r\nz\r\n\" id=\"DejaVuSans-54\"/>\r\n       </defs>\r\n       <use xlink:href=\"#DejaVuSans-54\"/>\r\n       <use x=\"63.623047\" xlink:href=\"#DejaVuSans-48\"/>\r\n      </g>\r\n     </g>\r\n    </g>\r\n    <g id=\"ytick_5\">\r\n     <g id=\"line2d_13\">\r\n      <g>\r\n       <use style=\"stroke:#000000;stroke-width:0.8;\" x=\"26.925\" xlink:href=\"#m6c40ec372b\" y=\"47.488545\"/>\r\n      </g>\r\n     </g>\r\n     <g id=\"text_13\">\r\n      <!-- 80 -->\r\n      <g transform=\"translate(7.2 51.287763)scale(0.1 -0.1)\">\r\n       <defs>\r\n        <path d=\"M 31.78125 34.625 \r\nQ 24.75 34.625 20.71875 30.859375 \r\nQ 16.703125 27.09375 16.703125 20.515625 \r\nQ 16.703125 13.921875 20.71875 10.15625 \r\nQ 24.75 6.390625 31.78125 6.390625 \r\nQ 38.8125 6.390625 42.859375 10.171875 \r\nQ 46.921875 13.96875 46.921875 20.515625 \r\nQ 46.921875 27.09375 42.890625 30.859375 \r\nQ 38.875 34.625 31.78125 34.625 \r\nz\r\nM 21.921875 38.8125 \r\nQ 15.578125 40.375 12.03125 44.71875 \r\nQ 8.5 49.078125 8.5 55.328125 \r\nQ 8.5 64.0625 14.71875 69.140625 \r\nQ 20.953125 74.21875 31.78125 74.21875 \r\nQ 42.671875 74.21875 48.875 69.140625 \r\nQ 55.078125 64.0625 55.078125 55.328125 \r\nQ 55.078125 49.078125 51.53125 44.71875 \r\nQ 48 40.375 41.703125 38.8125 \r\nQ 48.828125 37.15625 52.796875 32.3125 \r\nQ 56.78125 27.484375 56.78125 20.515625 \r\nQ 56.78125 9.90625 50.3125 4.234375 \r\nQ 43.84375 -1.421875 31.78125 -1.421875 \r\nQ 19.734375 -1.421875 13.25 4.234375 \r\nQ 6.78125 9.90625 6.78125 20.515625 \r\nQ 6.78125 27.484375 10.78125 32.3125 \r\nQ 14.796875 37.15625 21.921875 38.8125 \r\nz\r\nM 18.3125 54.390625 \r\nQ 18.3125 48.734375 21.84375 45.5625 \r\nQ 25.390625 42.390625 31.78125 42.390625 \r\nQ 38.140625 42.390625 41.71875 45.5625 \r\nQ 45.3125 48.734375 45.3125 54.390625 \r\nQ 45.3125 60.0625 41.71875 63.234375 \r\nQ 38.140625 66.40625 31.78125 66.40625 \r\nQ 25.390625 66.40625 21.84375 63.234375 \r\nQ 18.3125 60.0625 18.3125 54.390625 \r\nz\r\n\" id=\"DejaVuSans-56\"/>\r\n       </defs>\r\n       <use xlink:href=\"#DejaVuSans-56\"/>\r\n       <use x=\"63.623047\" xlink:href=\"#DejaVuSans-48\"/>\r\n      </g>\r\n     </g>\r\n    </g>\r\n   </g>\r\n   <g id=\"line2d_14\">\r\n    <defs>\r\n     <path d=\"M 0 -3 \r\nL -0.673542 -0.927051 \r\nL -2.85317 -0.927051 \r\nL -1.089814 0.354102 \r\nL -1.763356 2.427051 \r\nL -0 1.145898 \r\nL 1.763356 2.427051 \r\nL 1.089814 0.354102 \r\nL 2.85317 -0.927051 \r\nL 0.673542 -0.927051 \r\nz\r\n\" id=\"m04bd54b4b6\" style=\"stroke:#1f77b4;stroke-linejoin:bevel;\"/>\r\n    </defs>\r\n    <g clip-path=\"url(#pa5a49772a4)\">\r\n     <use style=\"fill:#1f77b4;stroke:#1f77b4;stroke-linejoin:bevel;\" x=\"42.143182\" xlink:href=\"#m04bd54b4b6\" y=\"181.151058\"/>\r\n     <use style=\"fill:#1f77b4;stroke:#1f77b4;stroke-linejoin:bevel;\" x=\"58.162321\" xlink:href=\"#m04bd54b4b6\" y=\"208.517701\"/>\r\n     <use style=\"fill:#1f77b4;stroke:#1f77b4;stroke-linejoin:bevel;\" x=\"74.181459\" xlink:href=\"#m04bd54b4b6\" y=\"157.204635\"/>\r\n     <use style=\"fill:#1f77b4;stroke:#1f77b4;stroke-linejoin:bevel;\" x=\"90.200598\" xlink:href=\"#m04bd54b4b6\" y=\"200.332287\"/>\r\n     <use style=\"fill:#1f77b4;stroke:#1f77b4;stroke-linejoin:bevel;\" x=\"106.219737\" xlink:href=\"#m04bd54b4b6\" y=\"138.419489\"/>\r\n     <use style=\"fill:#1f77b4;stroke:#1f77b4;stroke-linejoin:bevel;\" x=\"122.238876\" xlink:href=\"#m04bd54b4b6\" y=\"214.352509\"/>\r\n     <use style=\"fill:#1f77b4;stroke:#1f77b4;stroke-linejoin:bevel;\" x=\"138.258014\" xlink:href=\"#m04bd54b4b6\" y=\"197.172413\"/>\r\n     <use style=\"fill:#1f77b4;stroke:#1f77b4;stroke-linejoin:bevel;\" x=\"154.277153\" xlink:href=\"#m04bd54b4b6\" y=\"212.58482\"/>\r\n     <use style=\"fill:#1f77b4;stroke:#1f77b4;stroke-linejoin:bevel;\" x=\"170.296292\" xlink:href=\"#m04bd54b4b6\" y=\"214.756364\"/>\r\n     <use style=\"fill:#1f77b4;stroke:#1f77b4;stroke-linejoin:bevel;\" x=\"186.315431\" xlink:href=\"#m04bd54b4b6\" y=\"189.01531\"/>\r\n     <use style=\"fill:#1f77b4;stroke:#1f77b4;stroke-linejoin:bevel;\" x=\"202.334569\" xlink:href=\"#m04bd54b4b6\" y=\"65.10974\"/>\r\n     <use style=\"fill:#1f77b4;stroke:#1f77b4;stroke-linejoin:bevel;\" x=\"218.353708\" xlink:href=\"#m04bd54b4b6\" y=\"214.725458\"/>\r\n     <use style=\"fill:#1f77b4;stroke:#1f77b4;stroke-linejoin:bevel;\" x=\"234.372847\" xlink:href=\"#m04bd54b4b6\" y=\"209.659291\"/>\r\n     <use style=\"fill:#1f77b4;stroke:#1f77b4;stroke-linejoin:bevel;\" x=\"250.391986\" xlink:href=\"#m04bd54b4b6\" y=\"171.070585\"/>\r\n     <use style=\"fill:#1f77b4;stroke:#1f77b4;stroke-linejoin:bevel;\" x=\"266.411124\" xlink:href=\"#m04bd54b4b6\" y=\"56.938674\"/>\r\n     <use style=\"fill:#1f77b4;stroke:#1f77b4;stroke-linejoin:bevel;\" x=\"282.430263\" xlink:href=\"#m04bd54b4b6\" y=\"212.166521\"/>\r\n     <use style=\"fill:#1f77b4;stroke:#1f77b4;stroke-linejoin:bevel;\" x=\"298.449402\" xlink:href=\"#m04bd54b4b6\" y=\"213.455856\"/>\r\n     <use style=\"fill:#1f77b4;stroke:#1f77b4;stroke-linejoin:bevel;\" x=\"314.468541\" xlink:href=\"#m04bd54b4b6\" y=\"196.08318\"/>\r\n     <use style=\"fill:#1f77b4;stroke:#1f77b4;stroke-linejoin:bevel;\" x=\"330.487679\" xlink:href=\"#m04bd54b4b6\" y=\"17.083636\"/>\r\n     <use style=\"fill:#1f77b4;stroke:#1f77b4;stroke-linejoin:bevel;\" x=\"346.506818\" xlink:href=\"#m04bd54b4b6\" y=\"193.854063\"/>\r\n    </g>\r\n   </g>\r\n   <g id=\"patch_3\">\r\n    <path d=\"M 26.925 224.64 \r\nL 26.925 7.2 \r\n\" style=\"fill:none;stroke:#000000;stroke-linecap:square;stroke-linejoin:miter;stroke-width:0.8;\"/>\r\n   </g>\r\n   <g id=\"patch_4\">\r\n    <path d=\"M 361.725 224.64 \r\nL 361.725 7.2 \r\n\" style=\"fill:none;stroke:#000000;stroke-linecap:square;stroke-linejoin:miter;stroke-width:0.8;\"/>\r\n   </g>\r\n   <g id=\"patch_5\">\r\n    <path d=\"M 26.925 224.64 \r\nL 361.725 224.64 \r\n\" style=\"fill:none;stroke:#000000;stroke-linecap:square;stroke-linejoin:miter;stroke-width:0.8;\"/>\r\n   </g>\r\n   <g id=\"patch_6\">\r\n    <path d=\"M 26.925 7.2 \r\nL 361.725 7.2 \r\n\" style=\"fill:none;stroke:#000000;stroke-linecap:square;stroke-linejoin:miter;stroke-width:0.8;\"/>\r\n   </g>\r\n  </g>\r\n </g>\r\n <defs>\r\n  <clipPath id=\"pa5a49772a4\">\r\n   <rect height=\"217.44\" width=\"334.8\" x=\"26.925\" y=\"7.2\"/>\r\n  </clipPath>\r\n </defs>\r\n</svg>\r\n",
      "image/png": "[encoded data removed]"
     },
     "metadata": {
      "needs_background": "light"
     }
    }
   ],
   "source": [
    "plt.plot(DFAnalysis['Error'],'*')\n",
    "plt.show()"
   ]
  },
  {
   "cell_type": "code",
   "execution_count": 40,
   "metadata": {},
   "outputs": [
    {
     "output_type": "stream",
     "name": "stdout",
     "text": [
      "19.889188887437605\n4.4597296877095145\n"
     ]
    }
   ],
   "source": [
    "# RMSE = np.sqrt(np.sum(DFAnalysis['Error']))\n",
    "# print(RMSE)\n",
    "MSE = mean_squared_error(Ytest,Ypred)\n",
    "print(MSE) #MSE\n",
    "RMSE = mean_squared_error(Ytest,Ypred,squared=False)\n",
    "print(RMSE) # RMSE"
   ]
  },
  {
   "cell_type": "code",
   "execution_count": null,
   "metadata": {},
   "outputs": [],
   "source": []
  }
 ]
}